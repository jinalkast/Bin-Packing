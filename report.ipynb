{
 "cells": [
  {
   "cell_type": "markdown",
   "id": "d0f21658-40c8-40c9-99d2-ec8c0b42e84f",
   "metadata": {},
   "source": [
    "# Bin Packing Lab"
   ]
  },
  {
   "cell_type": "markdown",
   "id": "f9ffdec9-9fcb-4a7b-910e-abecc6352210",
   "metadata": {},
   "source": [
    "- Authors:\n",
    "  - Jinal Kasturiarachchi, kasturij@mcmaster.ca\n",
    "  - Maged Armanios, armanm5@mcmaster.ca\n",
    "- Group ID on Avenue: binpack 32\n",
    "- Gitlab URL: https://gitlab.cas.mcmaster.ca/kasturij/l2-bin-packing"
   ]
  },
  {
   "cell_type": "markdown",
   "id": "fcb763d5-aa1a-4ef1-a6ba-e3cbaae313aa",
   "metadata": {},
   "source": [
    "## How to use the provided code?"
   ]
  },
  {
   "cell_type": "markdown",
   "id": "a0308135-ad12-4563-92b8-45681d3e90a2",
   "metadata": {},
   "source": [
    "_(this section is just here for information, you can get rid of it in your own report)_"
   ]
  },
  {
   "cell_type": "code",
   "execution_count": 1,
   "id": "2166b346-058f-4619-9072-e6fbe608fa0e",
   "metadata": {},
   "outputs": [],
   "source": [
    "from macpacking.reader import DatasetReader, BinppReader, JburkardtReader\n",
    "from macpacking.model  import Online, Offline\n",
    "import macpacking.algorithms.offline as offline"
   ]
  },
  {
   "cell_type": "markdown",
   "id": "5fe23917-cc5c-4883-9a2a-581f3fbb2ba4",
   "metadata": {},
   "source": [
    "Now that the business code is imported, we can load an existing dataset"
   ]
  },
  {
   "cell_type": "code",
   "execution_count": 2,
   "id": "21df8c2c-a6fa-434b-88c3-361404872819",
   "metadata": {},
   "outputs": [
    {
     "name": "stdout",
     "output_type": "stream",
     "text": [
      "Dataset: _datasets/binpp/N1C1W1/N1C1W1_B.BPP.txt\n",
      "  - Bin Capacity: 100\n",
      "  - Objects to pack: [8, 8, 12, 13, 13, 14, 15, 17, 18, 19, 20, 23, 30, 37, 37, 39, 40, 43, 43, 44, 44, 50, 51, 61, 61, 62, 62, 63, 66, 67, 69, 70, 71, 72, 75, 76, 76, 79, 83, 83, 88, 92, 92, 93, 93, 97, 97, 97, 99, 100]\n"
     ]
    }
   ],
   "source": [
    "dataset = '_datasets/binpp/N1C1W1/N1C1W1_B.BPP.txt'\n",
    "reader: DatasetReader = BinppReader(dataset)\n",
    "print(f'Dataset: {dataset}')\n",
    "print(f'  - Bin Capacity: {reader.offline()[0]}')\n",
    "print(f'  - Objects to pack: {sorted(reader.offline()[1])}')"
   ]
  },
  {
   "cell_type": "markdown",
   "id": "0ec54798-4c40-4a2c-a88f-59d6da87975e",
   "metadata": {},
   "source": [
    "Acording to the `oracle.xslx` file, we now that the optimal solution for this case is to use _31_ bins. Let's call the baseline algorithm, which is an offline one, and see how it performs."
   ]
  },
  {
   "cell_type": "code",
   "execution_count": 3,
   "id": "6358d7c1-1777-4c63-af33-d4ebfea952a7",
   "metadata": {},
   "outputs": [
    {
     "name": "stdout",
     "output_type": "stream",
     "text": [
      "nb_bins = 31\n",
      "[[40], [43, 43, 14], [50, 44], [51, 44], [61], [61, 39], [62], [62, 37], [63, 37], [66], [67], [69], [70, 30], [71], [72, 13, 13], [75, 18], [76, 19], [76, 23], [79, 20], [83, 15], [83, 17], [88, 12], [92, 8], [92, 8], [93], [93], [97], [97], [97], [99], [100]]\n"
     ]
    }
   ],
   "source": [
    "import macpacking.algorithms.baseline as baseline\n",
    "strategy: Offline = baseline.BenMaier()\n",
    "result = strategy(reader.offline())\n",
    "print(f'nb_bins = {len(result)}')\n",
    "print(f'{sorted(result)}')"
   ]
  },
  {
   "cell_type": "markdown",
   "id": "74e4777c-bd24-4d4f-a3bc-8465cc5ec346",
   "metadata": {},
   "source": [
    "So the baseline finds the optimal solution. That's good news! Let's call our very own version of `NextFit`, as an offline algorithm."
   ]
  },
  {
   "cell_type": "code",
   "execution_count": 4,
   "id": "300c2945-fb05-4ab7-9f63-78568bb2f666",
   "metadata": {},
   "outputs": [
    {
     "name": "stdout",
     "output_type": "stream",
     "text": [
      "nb_bins = 35\n",
      "[[14, 13, 13, 12, 8, 8], [20, 19, 18, 17, 15], [37, 30, 23], [39, 37], [43, 40], [44, 43], [50, 44], [51], [61], [61], [62], [62], [63], [66], [67], [69], [70], [71], [72], [75], [76], [76], [79], [83], [83], [88], [92], [92], [93], [93], [97], [97], [97], [99], [100]]\n"
     ]
    }
   ],
   "source": [
    "import macpacking.algorithms.online as online\n",
    "strategy: Offline = offline.NextFit()\n",
    "result = strategy(reader.offline())\n",
    "print(f'nb_bins = {len(result)}')\n",
    "print(f'{sorted(result)}')"
   ]
  },
  {
   "cell_type": "markdown",
   "id": "10828372-717e-4a8e-bce5-bdb6781ba33f",
   "metadata": {},
   "source": [
    "Damn it, this algorithm is 4 bins far from the optimal solution! Let's try an online version. Usually, they perform worst, so let's measure it."
   ]
  },
  {
   "cell_type": "code",
   "execution_count": 5,
   "id": "50de8648-a261-4e84-bc56-14beefccde46",
   "metadata": {},
   "outputs": [
    {
     "name": "stdout",
     "output_type": "stream",
     "text": [
      "nb_bins = 36\n",
      "[[13, 61], [15, 70], [19], [20, 23], [37, 43, 14], [39], [40, 8, 18], [43], [44], [44, 50], [51, 30], [61], [62], [62, 37], [63, 17, 13], [66], [67], [69], [71], [72], [75], [76], [76, 8, 12], [79], [83], [83], [88], [92], [92], [93], [93], [97], [97], [97], [99], [100]]\n"
     ]
    }
   ],
   "source": [
    "strategy: Online = online.NextFit()\n",
    "result = strategy(reader.online())\n",
    "print(f'nb_bins = {len(result)}')\n",
    "print(f'{sorted(result)}')"
   ]
  },
  {
   "cell_type": "markdown",
   "id": "c523a4f3-6957-4963-ae74-f0009a66d204",
   "metadata": {},
   "source": [
    "As expected, the online version is worst!"
   ]
  },
  {
   "cell_type": "code",
   "execution_count": 6,
   "id": "6ce98fda",
   "metadata": {},
   "outputs": [
    {
     "name": "stdout",
     "output_type": "stream",
     "text": [
      "Capacity File: _datasets/jburkardt/p04_c.txt\n",
      "Weights File: _datasets/jburkardt/p04_w.txt\n",
      "  - Bin Capacity: 524\n",
      "  - Objects to pack: [9, 10, 10, 10, 10, 10, 10, 12, 12, 12, 37, 37, 46, 84, 85, 106, 106, 106, 106, 127, 127, 127, 127, 127, 252, 252, 252, 252, 252, 252, 252, 442]\n"
     ]
    }
   ],
   "source": [
    "c_file = '_datasets/jburkardt/p04_c.txt'\n",
    "w_file = '_datasets/jburkardt/p04_w.txt'\n",
    "reader: DatasetReader = JburkardtReader(c_file, w_file) \n",
    "print(f'Capacity File: {c_file}')\n",
    "print(f'Weights File: {w_file}')\n",
    "print(f'  - Bin Capacity: {reader.offline()[0]}')\n",
    "print(f'  - Objects to pack: {sorted(reader.offline()[1])}')"
   ]
  },
  {
   "cell_type": "code",
   "execution_count": 7,
   "id": "c423392b",
   "metadata": {},
   "outputs": [
    {
     "name": "stdout",
     "output_type": "stream",
     "text": [
      "nb_bins = 8\n",
      "[[10, 9], [106, 106, 106, 85, 84, 37], [127, 127, 127, 106, 37], [252, 127, 127, 12], [252, 252, 10, 10], [252, 252, 12], [252, 252, 12], [442, 46, 10, 10, 10]]\n"
     ]
    }
   ],
   "source": [
    "import macpacking.algorithms.baseline as baseline\n",
    "strategy: Offline = baseline.BenMaier()\n",
    "result = strategy(reader.offline())\n",
    "print(f'nb_bins = {len(result)}')\n",
    "print(f'{sorted(result)}')"
   ]
  },
  {
   "cell_type": "code",
   "execution_count": 8,
   "id": "e6bcd970",
   "metadata": {},
   "outputs": [
    {
     "name": "stdout",
     "output_type": "stream",
     "text": [
      "nb_bins = 8\n",
      "[[46, 37, 37, 12, 12, 12, 10, 10, 10, 10, 10, 10, 9], [106, 106, 106, 85, 84], [127, 127, 127, 106], [252, 127, 127], [252, 252], [252, 252], [252, 252], [442]]\n"
     ]
    }
   ],
   "source": [
    "import macpacking.algorithms.online as online\n",
    "strategy: Offline = offline.NextFit()\n",
    "result = strategy(reader.offline())\n",
    "print(f'nb_bins = {len(result)}')\n",
    "print(f'{sorted(result)}')"
   ]
  },
  {
   "cell_type": "code",
   "execution_count": 9,
   "id": "b92b0cab",
   "metadata": {},
   "outputs": [
    {
     "name": "stdout",
     "output_type": "stream",
     "text": [
      "nb_bins = 9\n",
      "[[9, 127, 12], [10, 252, 127, 106, 10], [37, 10, 252, 106, 84], [127, 12, 252, 46], [127, 106, 127, 10, 106, 12], [252], [252, 10, 252, 10], [252, 85, 37], [442]]\n"
     ]
    }
   ],
   "source": [
    "strategy: Online = online.NextFit()\n",
    "result = strategy(reader.online())\n",
    "print(f'nb_bins = {len(result)}')\n",
    "print(f'{sorted(result)}')"
   ]
  },
  {
   "cell_type": "code",
   "execution_count": 10,
   "id": "d97f9ed6",
   "metadata": {},
   "outputs": [
    {
     "name": "stdout",
     "output_type": "stream",
     "text": [
      "nb_bins = 32\n",
      "[[9], [10], [10], [10], [10], [10], [10], [12], [12], [12], [37], [37], [46], [84], [85], [106], [106], [106], [106], [127], [127], [127], [127], [127], [252], [252], [252], [252], [252], [252], [252], [442]]\n"
     ]
    }
   ],
   "source": [
    "strategy: Online = online.WorstSolution()\n",
    "result = strategy(reader.online())\n",
    "print(f'nb_bins = {len(result)}')\n",
    "print(f'{sorted(result)}')"
   ]
  },
  {
   "cell_type": "code",
   "execution_count": 11,
   "id": "9862b604",
   "metadata": {},
   "outputs": [
    {
     "name": "stdout",
     "output_type": "stream",
     "text": [
      "nb_bins = 8\n",
      "[[10, 252, 127, 106, 10, 12], [127, 106, 127, 106, 37, 12], [127, 252, 46, 10, 12, 37, 10, 10, 10, 9], [252], [252, 85, 127], [252, 106, 84], [252, 252], [442]]\n"
     ]
    }
   ],
   "source": [
    "strategy: Online = online.FirstFit()\n",
    "result = strategy(reader.online())\n",
    "print(f'nb_bins = {len(result)}')\n",
    "print(f'{sorted(result)}')"
   ]
  },
  {
   "cell_type": "code",
   "execution_count": 12,
   "id": "25d32784",
   "metadata": {},
   "outputs": [
    {
     "name": "stdout",
     "output_type": "stream",
     "text": [
      "nb_bins = 8\n",
      "[[10, 252, 127, 106, 10, 12], [127, 106, 127, 106, 12, 37, 9], [127, 252, 46, 10, 10, 37, 10, 12], [252], [252, 85, 127], [252, 106, 84], [252, 252, 10], [442]]\n"
     ]
    }
   ],
   "source": [
    "strategy: Online = online.BestFit()\n",
    "result = strategy(reader.online())\n",
    "print(f'nb_bins = {len(result)}')\n",
    "print(f'{sorted(result)}')"
   ]
  },
  {
   "cell_type": "code",
   "execution_count": 13,
   "id": "2141cd7b",
   "metadata": {},
   "outputs": [
    {
     "name": "stdout",
     "output_type": "stream",
     "text": [
      "nb_bins = 8\n",
      "[[10, 252, 127, 106, 10], [127, 12, 252, 46, 12, 37], [127, 106, 127, 10, 106, 10], [252], [252, 10, 252], [252, 85, 37, 10, 9, 127], [252, 106, 84, 12], [442]]\n"
     ]
    }
   ],
   "source": [
    "strategy: Online = online.WorstFit()\n",
    "result = strategy(reader.online())\n",
    "print(f'nb_bins = {len(result)}')\n",
    "print(f'{sorted(result)}')"
   ]
  },
  {
   "cell_type": "markdown",
   "id": "217aefb9-4bf5-4975-9e18-95718b2c47ca",
   "metadata": {},
   "source": [
    "## Self-reflection questions"
   ]
  },
  {
   "cell_type": "markdown",
   "id": "4646f916-24c0-401a-ac38-7aee03e59bf7",
   "metadata": {},
   "source": [
    "As part of the self-reflection dimension of an experiential course, each member of the group is expected to answer to the following four questions:\n",
    "\n",
    "  - What process did you go through to produce this result? (Backward)\n",
    "  - What were your standards for this piece of work? Did you meet your standards? (Inward)\n",
    "  - What the one thing you particularly want people to notice when they look at your work? (Outward)\n",
    "  - What lessons will you keep from this reading/lecture in your professional practice? (Forward)"
   ]
  }
 ],
 "metadata": {
  "kernelspec": {
   "display_name": "Python 3 (ipykernel)",
   "language": "python",
   "name": "python3"
  },
  "language_info": {
   "codemirror_mode": {
    "name": "ipython",
    "version": 3
   },
   "file_extension": ".py",
   "mimetype": "text/x-python",
   "name": "python",
   "nbconvert_exporter": "python",
   "pygments_lexer": "ipython3",
   "version": "3.9.1"
  },
  "vscode": {
   "interpreter": {
    "hash": "a102ffc8e708fafde2eac7ad2f955c8f9d0ed617bb032e6a3d2a72c0e8416fb0"
   }
  }
 },
 "nbformat": 4,
 "nbformat_minor": 5
}
